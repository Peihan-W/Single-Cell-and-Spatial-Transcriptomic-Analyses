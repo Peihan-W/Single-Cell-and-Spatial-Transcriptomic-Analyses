{
 "cells": [
  {
   "cell_type": "code",
   "execution_count": 1,
   "id": "aaea56c0",
   "metadata": {},
   "outputs": [
    {
     "name": "stderr",
     "output_type": "stream",
     "text": [
      "Attaching SeuratObject\n",
      "\n",
      "Attaching sp\n",
      "\n",
      "\n",
      "Attaching package: ‘dplyr’\n",
      "\n",
      "\n",
      "The following objects are masked from ‘package:stats’:\n",
      "\n",
      "    filter, lag\n",
      "\n",
      "\n",
      "The following objects are masked from ‘package:base’:\n",
      "\n",
      "    intersect, setdiff, setequal, union\n",
      "\n",
      "\n"
     ]
    },
    {
     "data": {
      "text/html": [
       "<pre class=language-r><code>structure(function (..., workers = 16, envir = parent.frame()) \n",
       "strategy(..., workers = workers, envir = envir), class = c(\"FutureStrategy\", \n",
       "\"tweaked\", \"multicore\", \"multiprocess\", \"future\", \"function\"), call = plan(\"multicore\", \n",
       "<span style=white-space:pre-wrap>    workers = 16))</span></code></pre>"
      ],
      "text/latex": [
       "\\begin{minted}{r}\n",
       "structure(function (..., workers = 16, envir = parent.frame()) \n",
       "strategy(..., workers = workers, envir = envir), class = c(\"FutureStrategy\", \n",
       "\"tweaked\", \"multicore\", \"multiprocess\", \"future\", \"function\"), call = plan(\"multicore\", \n",
       "    workers = 16))\n",
       "\\end{minted}"
      ],
      "text/markdown": [
       "```r\n",
       "structure(function (..., workers = 16, envir = parent.frame()) \n",
       "strategy(..., workers = workers, envir = envir), class = c(\"FutureStrategy\", \n",
       "\"tweaked\", \"multicore\", \"multiprocess\", \"future\", \"function\"), call = plan(\"multicore\", \n",
       "    workers = 16))\n",
       "```"
      ],
      "text/plain": [
       "multicore:\n",
       "- args: function (..., workers = 16, envir = parent.frame())\n",
       "- tweaked: TRUE\n",
       "- call: plan(\"multicore\", workers = 16)"
      ]
     },
     "metadata": {},
     "output_type": "display_data"
    }
   ],
   "source": [
    "library(Seurat)\n",
    "library(pheatmap)\n",
    "library(dplyr)\n",
    "library(future)\n",
    "\n",
    "set.seed(1515)\n",
    "options(future.globals.maxSize = 80000 * 1024^2)\n",
    "plan(\"multicore\", workers = 16)\n",
    "plan()"
   ]
  },
  {
   "cell_type": "code",
   "execution_count": 2,
   "id": "f1f95b17",
   "metadata": {},
   "outputs": [],
   "source": [
    "harmony <- readRDS(\"/workdir/wangph/proj/20220418_TB/SC/5.seurat/v7-12sample-normal/3.4.merged-harmony-processed-ann-20220821.rds\")"
   ]
  },
  {
   "cell_type": "code",
   "execution_count": 3,
   "id": "288c4b1f",
   "metadata": {},
   "outputs": [
    {
     "data": {
      "text/plain": [
       "\n",
       "                      B cells       Dendritic cells, common \n",
       "                        15074                          2140 \n",
       "Dendritic cells, plasmacytoid             Endothelial cells \n",
       "                          871                          1183 \n",
       "             Epithelial cells                   Fibroblasts \n",
       "                         3436                          9311 \n",
       "Lymphoid cells, proliferative                   Macrophages \n",
       "                         1667                         11328 \n",
       "                   Mast cells                     Monocytes \n",
       "                         1567                          5519 \n",
       "         Natural Killer cells                   Neutrophils \n",
       "                         7743                          4028 \n",
       "                 Plasma cells                 T cells, CD4+ \n",
       "                         2156                         40665 \n",
       "                T cells, CD8+ \n",
       "                        21015 "
      ]
     },
     "metadata": {},
     "output_type": "display_data"
    }
   ],
   "source": [
    "table(harmony@meta.data$ann.lv1)"
   ]
  },
  {
   "cell_type": "code",
   "execution_count": 4,
   "id": "4a9559d7",
   "metadata": {},
   "outputs": [],
   "source": [
    "# lymphoid cells\n",
    "subset.lympho = subset(x = harmony, ann.lv1 %in% c('T cells, CD4+', 'T cells, CD8+', 'Natural Killer cells', 'B cells', 'Plasma cells', 'Lymphoid cells, proliferative'))\n",
    "saveRDS(subset.lympho, file = \"/workdir/wangph/proj/20220418_TB/SC/5.seurat/v7-12sample-normal/4.merged-harmony-subset-lympho-20220821.rds\")"
   ]
  },
  {
   "cell_type": "code",
   "execution_count": 5,
   "id": "686c6ffb",
   "metadata": {},
   "outputs": [],
   "source": [
    "subset.t = subset(x = harmony, ann.lv1 %in% c('T cells, CD4+', 'T cells, CD8+', 'Natural Killer cells'))\n",
    "saveRDS(subset.t, file = \"/workdir/wangph/proj/20220418_TB/SC/5.seurat/v7-12sample-normal/4.merged-harmony-subset-t-20220821.rds\")\n",
    "\n",
    "subset.b = subset(x = harmony, ann.lv1 %in% c('B cells', 'Plasma cells'))\n",
    "saveRDS(subset.b, file = \"/workdir/wangph/proj/20220418_TB/SC/5.seurat/v7-12sample-normal/4.merged-harmony-subset-b-20220821.rds\")"
   ]
  },
  {
   "cell_type": "code",
   "execution_count": 5,
   "id": "fba03631",
   "metadata": {},
   "outputs": [],
   "source": [
    "# Myeloid cells\n",
    "subset.myelo = subset(x = harmony, ann.lv1 %in% c('Macrophages', 'Monocytes', 'Dendritic cells, plasmacytoid', 'Dendritic cells, common', 'Neutrophils', 'Mast cells'))\n",
    "saveRDS(subset.myelo, file = \"/workdir/wangph/proj/20220418_TB/SC/5.seurat/v7-12sample-normal/4.merged-harmony-subset-myelo-20220821.rds\")"
   ]
  },
  {
   "cell_type": "code",
   "execution_count": 8,
   "id": "d3ba58b9",
   "metadata": {},
   "outputs": [],
   "source": [
    "subset.macro = subset(x = harmony, ann.lv1 == 'Macrophages')\n",
    "saveRDS(subset.macro, file = \"/workdir/wangph/proj/20220418_TB/SC/5.seurat/v7-12sample-normal/4.merged-harmony-subset-macro-20220821.rds\")\n",
    "\n",
    "subset.mono = subset(x = harmony, ann.lv1 == 'Monocytes')\n",
    "saveRDS(subset.mono, file = \"/workdir/wangph/proj/20220418_TB/SC/5.seurat/v7-12sample-normal/4.merged-harmony-subset-mono-20220821.rds\")\n",
    "\n",
    "subset.dc = subset(x = harmony, ann.lv1 %in% c('Dendritic cells, plasmacytoid', 'Dendritic cells, common'))\n",
    "saveRDS(subset.dc, file = \"/workdir/wangph/proj/20220418_TB/SC/5.seurat/v7-12sample-normal/4.merged-harmony-subset-dc-20220821.rds\")\n",
    "\n",
    "subset.neutro = subset(x = harmony, ann.lv1 == 'Neutrophils')\n",
    "saveRDS(subset.neutro, file = \"/workdir/wangph/proj/20220418_TB/SC/5.seurat/v7-12sample-normal/4.merged-harmony-subset-neutro-20220821.rds\")\n",
    "\n",
    "subset.mast = subset(x = harmony, ann.lv1 == 'Mast cells')\n",
    "saveRDS(subset.mast, file = \"/workdir/wangph/proj/20220418_TB/SC/5.seurat/v7-12sample-normal/4.merged-harmony-subset-mast-20220821.rds\")"
   ]
  },
  {
   "cell_type": "code",
   "execution_count": 6,
   "id": "bfff8d06",
   "metadata": {},
   "outputs": [],
   "source": [
    "# Stromal cells\n",
    "subset.stro = subset(x = harmony, ann.lv1 %in% c('Fibroblasts', 'Endothelial cells', 'Epithelial cells'))\n",
    "saveRDS(subset.stro, file = \"/workdir/wangph/proj/20220418_TB/SC/5.seurat/v7-12sample-normal/4.merged-harmony-subset-stro-20220821.rds\")"
   ]
  },
  {
   "cell_type": "code",
   "execution_count": 10,
   "id": "ee835e5d",
   "metadata": {},
   "outputs": [],
   "source": [
    "subset.fibro = subset(x = harmony, ann.lv1 == 'Fibroblasts')\n",
    "saveRDS(subset.fibro, file = \"/workdir/wangph/proj/20220418_TB/SC/5.seurat/v7-12sample-normal/4.merged-harmony-subset-fibro-20220821.rds\")\n",
    "\n",
    "subset.endo = subset(x = harmony, ann.lv1 == 'Endothelial cells')\n",
    "saveRDS(subset.endo, file = \"/workdir/wangph/proj/20220418_TB/SC/5.seurat/v7-12sample-normal/4.merged-harmony-subset-endo-20220821.rds\")\n",
    "\n",
    "subset.epi = subset(x = harmony, ann.lv1 == 'Epithelial cells')\n",
    "saveRDS(subset.epi, file = \"/workdir/wangph/proj/20220418_TB/SC/5.seurat/v7-12sample-normal/4.merged-harmony-subset-epi-20220821.rds\")"
   ]
  },
  {
   "cell_type": "code",
   "execution_count": null,
   "id": "a5acf1a1",
   "metadata": {},
   "outputs": [],
   "source": []
  }
 ],
 "metadata": {
  "kernelspec": {
   "display_name": "R",
   "language": "R",
   "name": "ir"
  },
  "language_info": {
   "codemirror_mode": "r",
   "file_extension": ".r",
   "mimetype": "text/x-r-source",
   "name": "R",
   "pygments_lexer": "r",
   "version": "4.1.3"
  }
 },
 "nbformat": 4,
 "nbformat_minor": 5
}
